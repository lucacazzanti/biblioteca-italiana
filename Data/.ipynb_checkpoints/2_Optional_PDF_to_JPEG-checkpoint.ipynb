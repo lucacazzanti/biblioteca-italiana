{
 "cells": [
  {
   "cell_type": "markdown",
   "metadata": {},
   "source": [
    "## Conversion of pdf files to jpeg images \n",
    "\n",
    "Our pipeline involved generating pdfs with Italian authors and titles to simulate a real world cover image. While in a real scenario users might have images ready, this was an essential step of the pipeline for us to get the requisite images.\n",
    "\n",
    "This notebook uses the Wand library to extract jpegs from the pdf files. Wand is a ctypes-based ImageMagick binding library for Python."
   ]
  },
  {
   "cell_type": "code",
   "execution_count": 7,
   "metadata": {},
   "outputs": [],
   "source": [
    "from wand.image import Image\n",
    "from wand.color import Color\n",
    "import os"
   ]
  },
  {
   "cell_type": "markdown",
   "metadata": {},
   "source": [
    "The function below reads 100 sample pdfs. It loops over all the pdf files. For every file, it generates a corresponding jpeg image, and saves that image to the images folder.\n"
   ]
  },
  {
   "cell_type": "code",
   "execution_count": 5,
   "metadata": {},
   "outputs": [],
   "source": [
    "def pdfToImg():\n",
    "    \"\"\" Convert a PDF into images.\n",
    "\n",
    "        All the images will be saved in format:\n",
    "        {pdf_filename}.jpg\n",
    "    \"\"\"\n",
    "    \n",
    "    path = 'sample_pdfs'\n",
    "\n",
    "    counter = 0\n",
    "\n",
    "    for filename in os.listdir(path):\n",
    "        \n",
    "        try:\n",
    "            currloc =  path+'/'+filename\n",
    "            \n",
    "            #Set desired resolution to 128px\n",
    "            with Image(filename=currloc, resolution=128) as img:\n",
    "                \n",
    "                #Set the image background to white along with width and height\n",
    "                with Image(width=img.width, height=img.height, background=Color(\"white\")) as bg:\n",
    "                    images=img.sequence\n",
    "                    pages=len(images)\n",
    "                  \n",
    "                    #Only read the first page of the pdf\n",
    "                    if pages == 1:\n",
    "                        bg.composite(img,0,0)\n",
    "                        \n",
    "                        #Extract the filename by pruning the \".pdf\" extension\n",
    "                        filename = filename[:-4]\n",
    "                        \n",
    "                        #Save image to the images folder\n",
    "                        output_file = 'images/' + filename +'.jpg'\n",
    "                        bg.save(filename=output_file)\n",
    "\n",
    "        except:\n",
    "            pass\n"
   ]
  },
  {
   "cell_type": "code",
   "execution_count": 6,
   "metadata": {},
   "outputs": [],
   "source": [
    "pdfToImg()"
   ]
  }
 ],
 "metadata": {
  "kernelspec": {
   "display_name": "Python 3",
   "language": "python",
   "name": "python3"
  },
  "language_info": {
   "codemirror_mode": {
    "name": "ipython",
    "version": 3
   },
   "file_extension": ".py",
   "mimetype": "text/x-python",
   "name": "python",
   "nbconvert_exporter": "python",
   "pygments_lexer": "ipython3",
   "version": "3.6.5"
  }
 },
 "nbformat": 4,
 "nbformat_minor": 2
}
